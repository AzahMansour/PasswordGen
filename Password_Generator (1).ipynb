{
 "cells": [
  {
   "cell_type": "code",
   "execution_count": 2,
   "id": "ceec4e1f-6095-4232-944d-9b944c401df0",
   "metadata": {},
   "outputs": [
    {
     "name": "stdin",
     "output_type": "stream",
     "text": [
      "Enter the minimum length:  5\n",
      "Do you want to include numbers? (yes/no):  no\n",
      "Do you want to include special characters? (yes/no):  yes\n"
     ]
    },
    {
     "name": "stdout",
     "output_type": "stream",
     "text": [
      "The generated password is:  f%H&e\n"
     ]
    }
   ],
   "source": [
    "import random\n",
    "import string  #this will grab all the upper and lowercase letters, numbers, and special characters that exist\n",
    "\n",
    "def generate_password(min_length, numbers = True, special_characters = True): #user will state minimum length for password and if they was numbers & special characters (criteria)\n",
    "    letters = string.ascii_letters   \n",
    "    digits = string.digits  \n",
    "    special = string.punctuation   # these variables have been assigned all the potential characters we could use (letters, nums, special characters\n",
    "\n",
    "    characters = letters #there will always be letters in all passwords\n",
    "    if numbers:\n",
    "        characters += digits #if numbers=True the digits string will be added to character(letter) string \n",
    "    if special_characters:\n",
    "        characters += special #if special_characters=True the special string is added to character(letter) string\n",
    "\n",
    "    #starting a loop, every iteration of loop will generate new character to add to randomized password until all criteria from function are met\n",
    "    pwd = \"\"  #stands for password, where password will be stored (empty right now)\n",
    "    meets_criteria = False  #will be set to True once criteria met\n",
    "    has_num = False\n",
    "    has_special = False\n",
    "\n",
    "    while not meets_criteria or len(pwd) < min_length:  #condition for while loop: while we are not meeting criteria, loop will continue adding characters\n",
    "        new_char = random.choice(characters) #generates new character\n",
    "        pwd += new_char #adds new character to password\n",
    "\n",
    "#determines if the character generated was a number or special character\n",
    "        if new_char in digits:  #if exists in digits, then the number criteria met\n",
    "            has_num = True\n",
    "        elif new_char in special:\n",
    "            has_special = True    #if exists in special, the the special character criteria met\n",
    "\n",
    "        meets_criteria = True\n",
    "        if numbers:  #if we should include a number, and there is a number meets_criteria stays True, else False\n",
    "            meets_criteria = has_num  \n",
    "        if special_characters: #if we should included a special character, and there is a special char, then meets_criteria stays True, else False\n",
    "            meets_criteria = meets_criteria and has_special  #will be set to False if meets_criteria and has_special aren't both True\n",
    "\n",
    "    return pwd  #password returned when all criteria met\n",
    "\n",
    "min_length = int(input(\"Enter the minimum length: \"))\n",
    "has_num = input(\"Do you want to include numbers? (yes/no): \").lower() == \"yes\"  #if user types anything other than yes (no), number/special char wont be included\n",
    "has_special = input(\"Do you want to include special characters? (yes/no): \").lower() == \"yes\"  # == checks for equivalence\n",
    "pwd = generate_password(min_length, has_num, has_special)\n",
    "print(\"The generated password is: \", pwd)"
   ]
  },
  {
   "cell_type": "code",
   "execution_count": null,
   "id": "3a0e8f13-993e-4294-a234-eba0231c81eb",
   "metadata": {},
   "outputs": [],
   "source": []
  }
 ],
 "metadata": {
  "kernelspec": {
   "display_name": "Python 3 (ipykernel)",
   "language": "python",
   "name": "python3"
  },
  "language_info": {
   "codemirror_mode": {
    "name": "ipython",
    "version": 3
   },
   "file_extension": ".py",
   "mimetype": "text/x-python",
   "name": "python",
   "nbconvert_exporter": "python",
   "pygments_lexer": "ipython3",
   "version": "3.12.4"
  }
 },
 "nbformat": 4,
 "nbformat_minor": 5
}
